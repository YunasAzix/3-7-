{
  "nbformat": 4,
  "nbformat_minor": 0,
  "metadata": {
    "colab": {
      "provenance": []
    },
    "kernelspec": {
      "name": "python3",
      "display_name": "Python 3"
    },
    "language_info": {
      "name": "python"
    }
  },
  "cells": [
    {
      "cell_type": "code",
      "execution_count": 6,
      "metadata": {
        "colab": {
          "base_uri": "https://localhost:8080/"
        },
        "id": "Uq325wt72kio",
        "outputId": "c5dc621d-226c-4c7c-9127-533d8d28858f"
      },
      "outputs": [
        {
          "output_type": "stream",
          "name": "stdout",
          "text": [
            "請輸入你想要的圓半徑6\n",
            "面積= 36.0 π 圓周長= 12.0 π\n"
          ]
        }
      ],
      "source": [
        "r=float(input(\"請輸入你想要的圓半徑\"))\n",
        "面積=r**2\n",
        "圓周長=r*2\n",
        "print(\"面積=\",面積,\"π\",\"圓周長=\",圓周長,\"π\")"
      ]
    }
  ]
}